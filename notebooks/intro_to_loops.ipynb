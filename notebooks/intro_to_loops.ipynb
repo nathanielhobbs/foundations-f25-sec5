{
 "cells": [
  {
   "cell_type": "markdown",
   "id": "f4a4526b",
   "metadata": {},
   "source": [
    "# Loops\n",
    "\n",
    "Loops allow for a program to excecute a code block many times.  There are two kinds of loops:\n",
    "\n",
    "- for\n",
    "- while\n",
    "\n",
    "A for loop is a loop that goes for some *fixed number* of times.  For example, \"do this 10 time\" or \"do this 1000 times\" or \"do this for each item in a list\""
   ]
  },
  {
   "cell_type": "code",
   "execution_count": 3,
   "id": "df8a9edf",
   "metadata": {},
   "outputs": [
    {
     "name": "stdout",
     "output_type": "stream",
     "text": [
      "abc\n",
      "1\n",
      "5.677\n",
      "True\n"
     ]
    }
   ],
   "source": [
    "my_list = ['abc', 1, 5.677, True]\n",
    "\n",
    "# python makes it easy to iterate through the values of a list\n",
    "for item in my_list:\n",
    "    print(item)"
   ]
  },
  {
   "cell_type": "code",
   "execution_count": null,
   "id": "e11b9246",
   "metadata": {},
   "outputs": [
    {
     "name": "stdout",
     "output_type": "stream",
     "text": [
      "abc\n",
      "1\n",
      "5.677\n",
      "True\n"
     ]
    }
   ],
   "source": [
    "my_list = ['abc', 1, 5.677, True]\n",
    "\n",
    "# python makes it easy to iterate through the values of a list\n",
    "for i in range(len(my_list)): # range behaves like: [0,1,2,3]\n",
    "    print(my_list[i])"
   ]
  },
  {
   "cell_type": "code",
   "execution_count": 1,
   "id": "377be163",
   "metadata": {},
   "outputs": [
    {
     "name": "stdout",
     "output_type": "stream",
     "text": [
      "5.677\n",
      "5.677\n",
      "5.677\n",
      "5.677\n"
     ]
    }
   ],
   "source": [
    "my_list = ['abc', 1, 5.677, True]\n",
    "\n",
    "# python makes it easy to iterate through the values of a list\n",
    "for i in range(len(my_list)):\n",
    "    print(my_list[2])"
   ]
  },
  {
   "cell_type": "markdown",
   "id": "9deaf6a1",
   "metadata": {},
   "source": [
    "### \"pythonic\"\n",
    "\n",
    "Pythonic is when code is written to be especially beautiful in python.\n",
    "\n",
    "That is, the language developers made this a special feature, so people are happy when you use it."
   ]
  },
  {
   "cell_type": "markdown",
   "id": "96cc68f5",
   "metadata": {},
   "source": [
    "## the \"range\" type\n",
    "\n",
    "range() is a function in python that takes one input: an integer.  The function returns an object of type range.  This behaves like a list where its the values are the same as the indices.\n",
    "\n",
    "The range type exists because it can save space.  It doesn't need to store all of the values (which could take up a lot of space) it just stores 3 things:\n",
    "- current value\n",
    "- update value rule\n",
    "- stop value"
   ]
  },
  {
   "cell_type": "code",
   "execution_count": 3,
   "id": "4d3e0ed4",
   "metadata": {},
   "outputs": [
    {
     "name": "stdout",
     "output_type": "stream",
     "text": [
      "<class 'list'>\n",
      "<class 'tuple'>\n",
      "<class 'range'>\n"
     ]
    }
   ],
   "source": [
    "print(type(['a','b']))\n",
    "print(type(('a','b')))\n",
    "print(type(range(2)))"
   ]
  },
  {
   "cell_type": "code",
   "execution_count": null,
   "id": "90aeeeef",
   "metadata": {},
   "outputs": [
    {
     "name": "stdout",
     "output_type": "stream",
     "text": [
      "range(0, 5)\n",
      "[0, 1, 2, 3, 4]\n",
      "['h', 'e', 'l', 'l', 'o']\n"
     ]
    }
   ],
   "source": [
    "print(range(5))\n",
    "print(list(range(5))) # cast (force a type change) a range as a list "
   ]
  },
  {
   "cell_type": "code",
   "execution_count": 2,
   "id": "59651663",
   "metadata": {},
   "outputs": [
    {
     "name": "stdout",
     "output_type": "stream",
     "text": [
      "(1, 2, 3)\n",
      "[1, 2, 3]\n",
      "['h', 'e', 'l', 'l', 'o']\n"
     ]
    },
    {
     "ename": "TypeError",
     "evalue": "'int' object is not iterable",
     "output_type": "error",
     "traceback": [
      "\u001b[0;31m---------------------------------------------------------------------------\u001b[0m",
      "\u001b[0;31mTypeError\u001b[0m                                 Traceback (most recent call last)",
      "Cell \u001b[0;32mIn[2], line 8\u001b[0m\n\u001b[1;32m      4\u001b[0m \u001b[38;5;28mprint\u001b[39m(\u001b[38;5;28mlist\u001b[39m(my_tuple))\n\u001b[1;32m      6\u001b[0m \u001b[38;5;28mprint\u001b[39m(\u001b[38;5;28mlist\u001b[39m(\u001b[38;5;124m'\u001b[39m\u001b[38;5;124mhello\u001b[39m\u001b[38;5;124m'\u001b[39m))\n\u001b[0;32m----> 8\u001b[0m \u001b[38;5;28mprint\u001b[39m(\u001b[38;5;28;43mlist\u001b[39;49m\u001b[43m(\u001b[49m\u001b[38;5;241;43m5\u001b[39;49m\u001b[43m)\u001b[49m)\n",
      "\u001b[0;31mTypeError\u001b[0m: 'int' object is not iterable"
     ]
    }
   ],
   "source": [
    "my_tuple = (1,2,3)\n",
    "\n",
    "print(my_tuple)\n",
    "print(list(my_tuple))\n",
    "\n",
    "print(list('hello'))\n",
    "\n",
    "print(list(5))"
   ]
  },
  {
   "cell_type": "markdown",
   "id": "5e205b04",
   "metadata": {},
   "source": [
    "The full form of a range is:\n",
    "\n",
    "range(start,stop,step)\n",
    "\n",
    "- the start value is default 0.\n",
    "- the stop value is required\n",
    "- the step rule is default +1"
   ]
  },
  {
   "cell_type": "code",
   "execution_count": null,
   "id": "e7805802",
   "metadata": {},
   "outputs": [
    {
     "name": "stdout",
     "output_type": "stream",
     "text": [
      "[63, True]\n"
     ]
    }
   ],
   "source": [
    "# slicing in lists\n",
    "my_list = ['abc', 63, 3.1453, True, ['one', 'two'], False]\n",
    "\n",
    "print(my_list[1:5:2]) # list[start:stop:step]"
   ]
  },
  {
   "cell_type": "code",
   "execution_count": 7,
   "id": "15214f5a",
   "metadata": {},
   "outputs": [
    {
     "name": "stdout",
     "output_type": "stream",
     "text": [
      "range(0, 10)\n",
      "[0, 1, 2, 3, 4, 5, 6, 7, 8, 9]\n",
      "[0, 1, 2, 3, 4, 5, 6, 7, 8, 9]\n",
      "[0, 1, 2, 3, 4, 5, 6, 7, 8, 9]\n"
     ]
    }
   ],
   "source": [
    "print(range(10))\n",
    "print(list(range(10)))\n",
    "print(list(range(0,10))) # make start explicit \n",
    "print(list(range(0,10,1))) # make start and step explicit "
   ]
  },
  {
   "cell_type": "code",
   "execution_count": 8,
   "id": "e66e29ff",
   "metadata": {},
   "outputs": [
    {
     "name": "stdout",
     "output_type": "stream",
     "text": [
      "[0, 1, 2, 3, 4, 5, 6, 7, 8, 9]\n",
      "[2, 3, 4, 5, 6, 7, 8, 9]\n",
      "[2, 4, 6, 8]\n",
      "[10, 9, 8, 7, 6, 5, 4, 3, 2, 1]\n"
     ]
    }
   ],
   "source": [
    "print(list(range(0,10,1)))\n",
    "print(list(range(2,10,1)))\n",
    "print(list(range(2,10,2)))\n",
    "print(list(range(10,0,-1)))"
   ]
  },
  {
   "cell_type": "code",
   "execution_count": 9,
   "id": "714d8e2c",
   "metadata": {},
   "outputs": [
    {
     "name": "stdout",
     "output_type": "stream",
     "text": [
      "do\n",
      "do\n",
      "do\n",
      "do\n",
      "do\n",
      "do\n",
      "do\n",
      "do\n",
      "do\n",
      "do\n"
     ]
    }
   ],
   "source": [
    "my_string = 'do'\n",
    "for i in range(10):\n",
    "    print(my_string)"
   ]
  },
  {
   "cell_type": "markdown",
   "id": "4b050277",
   "metadata": {},
   "source": [
    "## while loop\n",
    "\n",
    "A while loop is a loop that executes a block of code so long some condition is true."
   ]
  },
  {
   "cell_type": "code",
   "execution_count": null,
   "id": "a280b910",
   "metadata": {},
   "outputs": [
    {
     "name": "stdout",
     "output_type": "stream",
     "text": [
      "0\n",
      "1\n",
      "2\n",
      "3\n",
      "4\n",
      "5\n",
      "6\n",
      "7\n",
      "8\n",
      "9\n"
     ]
    }
   ],
   "source": [
    "a = 0\n",
    "while a < 10:\n",
    "    print(a)\n",
    "    a = a + 1"
   ]
  },
  {
   "cell_type": "code",
   "execution_count": 11,
   "id": "3255632c",
   "metadata": {},
   "outputs": [
    {
     "name": "stdout",
     "output_type": "stream",
     "text": [
      "0\n",
      "1\n",
      "2\n",
      "3\n",
      "4\n",
      "5\n",
      "6\n",
      "7\n",
      "8\n",
      "9\n"
     ]
    }
   ],
   "source": [
    "for i in range(10):\n",
    "    print(i)"
   ]
  },
  {
   "cell_type": "markdown",
   "id": "116de372",
   "metadata": {},
   "source": [
    "In python, a while loop can do everything.  Anything you can do with a for loop you can do with a while loop (see above).\n",
    "\n",
    "The reverse is not true. \n",
    "\n",
    "That is, a while loop is \"more powerful\" and can do things you can not do with a for loop.\n",
    "\n",
    "In python, there is no way to make an infinant loop using a for loop."
   ]
  },
  {
   "cell_type": "code",
   "execution_count": null,
   "id": "03e96b34",
   "metadata": {},
   "outputs": [
    {
     "name": "stdout",
     "output_type": "stream",
     "text": [
      "0\n",
      "1\n",
      "2\n",
      "3\n",
      "4\n",
      "5\n",
      "6\n",
      "7\n",
      "8\n",
      "9\n"
     ]
    }
   ],
   "source": [
    "for i in range(10):\n",
    "    print(i)\n",
    "    i = i - 1"
   ]
  },
  {
   "cell_type": "code",
   "execution_count": 5,
   "id": "ddb815b5",
   "metadata": {},
   "outputs": [
    {
     "name": "stdout",
     "output_type": "stream",
     "text": [
      "first i 0 updated i -1\n",
      "first i 1 updated i 0\n",
      "first i 2 updated i 1\n",
      "first i 3 updated i 2\n",
      "first i 4 updated i 3\n",
      "first i 5 updated i 4\n",
      "first i 6 updated i 5\n",
      "first i 7 updated i 6\n",
      "first i 8 updated i 7\n",
      "first i 9 updated i 8\n"
     ]
    }
   ],
   "source": [
    "for i in range(10):\n",
    "    print('first i', i, end=\" \")\n",
    "    i = i - 1\n",
    "    print('updated i',i)"
   ]
  },
  {
   "cell_type": "markdown",
   "id": "8c7825c7",
   "metadata": {},
   "source": [
    "The above shows that the python interpreter updates the iterable's value. You (the programmer) can not change this, even if you try."
   ]
  },
  {
   "cell_type": "markdown",
   "id": "229489a8",
   "metadata": {},
   "source": [
    "## Nested loops\n",
    "\n",
    "You can put one loop inside of another, this is called \"nesting\""
   ]
  },
  {
   "cell_type": "code",
   "execution_count": 3,
   "id": "15b77c67",
   "metadata": {},
   "outputs": [
    {
     "name": "stdout",
     "output_type": "stream",
     "text": [
      "i =  0 j =  0\n",
      "i =  0 j =  1\n",
      "i =  0 j =  2\n",
      "i =  1 j =  0\n",
      "i =  1 j =  1\n",
      "i =  1 j =  2\n",
      "i =  2 j =  0\n",
      "i =  2 j =  1\n",
      "i =  2 j =  2\n",
      "i =  3 j =  0\n",
      "i =  3 j =  1\n",
      "i =  3 j =  2\n",
      "i =  4 j =  0\n",
      "i =  4 j =  1\n",
      "i =  4 j =  2\n"
     ]
    }
   ],
   "source": [
    "for i in range(5): # outer loop\n",
    "    for j in range(3): # inner loop\n",
    "        print('i = ', i, 'j = ', j)"
   ]
  },
  {
   "cell_type": "markdown",
   "id": "ea491521",
   "metadata": {},
   "source": [
    "### continue\n",
    "\n",
    "The word \"continue\" is used to interrupt a loop's execution. It has the effect of skipping the rest of the loop and going on to the next element (continue to the next one)"
   ]
  },
  {
   "cell_type": "code",
   "execution_count": 4,
   "id": "9b806a0d",
   "metadata": {},
   "outputs": [
    {
     "name": "stdout",
     "output_type": "stream",
     "text": [
      "Alice\n",
      "Charlie\n"
     ]
    }
   ],
   "source": [
    "names = ['Alice', 'Bob', 'Charlie']\n",
    "\n",
    "for name in names:\n",
    "    if name == 'Bob':\n",
    "        continue\n",
    "    print(name)"
   ]
  },
  {
   "cell_type": "markdown",
   "id": "c96523c2",
   "metadata": {},
   "source": [
    "### break\n",
    "\n",
    "The \"break\" word interrupts the execution of a loop and then \"breaks out\" of the loop, i.e. stops all further iterations"
   ]
  },
  {
   "cell_type": "code",
   "execution_count": 5,
   "id": "ba43119b",
   "metadata": {},
   "outputs": [
    {
     "name": "stdout",
     "output_type": "stream",
     "text": [
      "Alice\n"
     ]
    }
   ],
   "source": [
    "names = ['Alice', 'Bob', 'Charlie']\n",
    "\n",
    "for name in names:\n",
    "    if name == 'Bob':\n",
    "        break\n",
    "    print(name)"
   ]
  },
  {
   "cell_type": "markdown",
   "id": "8fbbb76f",
   "metadata": {},
   "source": [
    "### enumerate\n",
    "\n",
    "The word \"enumerate\" allows you to get *both* the index and value of a list/tuple in a single iteration"
   ]
  },
  {
   "cell_type": "code",
   "execution_count": 6,
   "id": "70ec3bcb",
   "metadata": {},
   "outputs": [
    {
     "name": "stdout",
     "output_type": "stream",
     "text": [
      "At position 0 is Alice\n",
      "At position 1 is Bob\n",
      "At position 2 is Charlie\n"
     ]
    }
   ],
   "source": [
    "# this works, but is considered \"clunky\"/\"ugly\"/\"not pythonic\"\n",
    "names = ['Alice', 'Bob', 'Charlie']\n",
    "\n",
    "for i in range(len(names)):\n",
    "    print('At position',i,'is',names[i])"
   ]
  },
  {
   "cell_type": "code",
   "execution_count": 7,
   "id": "0d1d2bc4",
   "metadata": {},
   "outputs": [
    {
     "name": "stdout",
     "output_type": "stream",
     "text": [
      "At position 0 is Alice\n",
      "At position 1 is Bob\n",
      "At position 2 is Charlie\n"
     ]
    }
   ],
   "source": [
    "# this is the \"pythonic\" way to do the same as above\n",
    "names = ['Alice', 'Bob', 'Charlie']\n",
    "\n",
    "# note: enumerate(names) looks like:\n",
    "# [(0,'Alice'),(1,'Bob'),(2,'Charlie)]\n",
    "for i,name in enumerate(names):\n",
    "    print('At position',i,'is',name)"
   ]
  },
  {
   "cell_type": "markdown",
   "id": "4b4d092a",
   "metadata": {},
   "source": [
    "### Iterating through dictionaries\n",
    "\n",
    "Dictionaries are a collection of key-value pairs. That is each \"entry\" in the dictionary is two things: a key and a value.\n",
    "\n",
    "Iterating through a dictionary has some differences that iterating through a list."
   ]
  },
  {
   "cell_type": "code",
   "execution_count": null,
   "id": "cedbc2ae",
   "metadata": {},
   "outputs": [
    {
     "name": "stdout",
     "output_type": "stream",
     "text": [
      "Alice\n",
      "Bob\n",
      "Charlie\n",
      "Alice\n",
      "Bob\n",
      "Charlie\n",
      "19\n",
      "51\n",
      "24\n"
     ]
    }
   ],
   "source": [
    "people = {'Alice':19, 'Bob': 51, 'Charlie':24}\n",
    "\n",
    "for person in people: # this iterates through the key values\n",
    "    print(person)\n",
    "\n",
    "for person in people.keys(): # this makes the default behavior explicit\n",
    "    print(person)\n",
    "\n",
    "for person in people.values(): # this gets just the values\n",
    "    print(person)"
   ]
  },
  {
   "cell_type": "code",
   "execution_count": 13,
   "id": "2187b1ad",
   "metadata": {},
   "outputs": [
    {
     "name": "stdout",
     "output_type": "stream",
     "text": [
      "key is 0 value is Alice\n",
      "key is 1 value is Bob\n",
      "key is 2 value is Charlie\n",
      "key is Alice value is 19\n",
      "key is Bob value is 51\n",
      "key is Charlie value is 24\n"
     ]
    }
   ],
   "source": [
    "for key,value in enumerate(people):   # this gives the numbered position of the names\n",
    "    print('key is', key, 'value is', value)\n",
    "\n",
    "for key,value in people.items(): # items() gives keys AND values\n",
    "    print('key is', key, 'value is', value)"
   ]
  }
 ],
 "metadata": {
  "kernelspec": {
   "display_name": "engravings",
   "language": "python",
   "name": "python3"
  },
  "language_info": {
   "codemirror_mode": {
    "name": "ipython",
    "version": 3
   },
   "file_extension": ".py",
   "mimetype": "text/x-python",
   "name": "python",
   "nbconvert_exporter": "python",
   "pygments_lexer": "ipython3",
   "version": "3.12.7"
  }
 },
 "nbformat": 4,
 "nbformat_minor": 5
}
