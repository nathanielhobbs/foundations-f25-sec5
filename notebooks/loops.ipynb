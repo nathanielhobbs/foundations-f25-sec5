{
 "cells": [
  {
   "cell_type": "markdown",
   "id": "046c49cc",
   "metadata": {},
   "source": [
    "# Loops\n",
    "\n",
    "There are two kinds of loops: for loops and while loops.\n",
    "\n",
    "For loops run a *fixed number* of times. E.g. \"do this 100 times\".\n",
    "\n",
    "While loops run *while a condition is true*."
   ]
  },
  {
   "cell_type": "code",
   "execution_count": 1,
   "id": "26b747a2",
   "metadata": {},
   "outputs": [
    {
     "name": "stdout",
     "output_type": "stream",
     "text": [
      "alice\n",
      "bob\n",
      "charlie\n"
     ]
    }
   ],
   "source": [
    "# for each name in the list of names, print\n",
    "for name in ['alice', 'bob', 'charlie']:\n",
    "    print(name)"
   ]
  },
  {
   "cell_type": "code",
   "execution_count": 3,
   "id": "200a5f07",
   "metadata": {},
   "outputs": [
    {
     "name": "stdout",
     "output_type": "stream",
     "text": [
      "alice\n",
      "bob\n",
      "charlie\n"
     ]
    }
   ],
   "source": [
    "names = ['alice', 'bob', 'charlie']\n",
    "for i in range(len(names)):\n",
    "    print(names[i])"
   ]
  },
  {
   "cell_type": "code",
   "execution_count": null,
   "id": "58ccbc28",
   "metadata": {},
   "outputs": [],
   "source": [
    "names = ['alice', 'bob', 'charlie']\n",
    "i = 0\n",
    "while i < len(names):\n",
    "    print(names[i])\n",
    "    i = i + 1 # i += 1"
   ]
  }
 ],
 "metadata": {
  "kernelspec": {
   "display_name": "engravings",
   "language": "python",
   "name": "python3"
  },
  "language_info": {
   "codemirror_mode": {
    "name": "ipython",
    "version": 3
   },
   "file_extension": ".py",
   "mimetype": "text/x-python",
   "name": "python",
   "nbconvert_exporter": "python",
   "pygments_lexer": "ipython3",
   "version": "3.12.7"
  }
 },
 "nbformat": 4,
 "nbformat_minor": 5
}
