{
 "cells": [
  {
   "cell_type": "markdown",
   "id": "57d11ff0",
   "metadata": {},
   "source": [
    "# Functions in Python\n",
    "\n",
    "Functions take inputs and transform them to outputs. In python, a function may have 0 or 1 or more inputs.  A function *always* has an output (if you don't say, there's a default value that is used for you)."
   ]
  },
  {
   "cell_type": "markdown",
   "id": "da44c94b",
   "metadata": {},
   "source": [
    "A quick aside on Jupyter notebook..."
   ]
  },
  {
   "cell_type": "code",
   "execution_count": 1,
   "id": "4e0d8de3",
   "metadata": {},
   "outputs": [
    {
     "data": {
      "text/plain": [
       "6"
      ]
     },
     "execution_count": 1,
     "metadata": {},
     "output_type": "execute_result"
    }
   ],
   "source": [
    "3+3"
   ]
  },
  {
   "cell_type": "markdown",
   "id": "11f338aa",
   "metadata": {},
   "source": [
    "Note: Jupyter notebook will only \"print to the terminal\" the very last line."
   ]
  },
  {
   "cell_type": "code",
   "execution_count": 2,
   "id": "9b08d7ff",
   "metadata": {},
   "outputs": [
    {
     "data": {
      "text/plain": [
       "7"
      ]
     },
     "execution_count": 2,
     "metadata": {},
     "output_type": "execute_result"
    }
   ],
   "source": [
    "3+3\n",
    "3+4"
   ]
  },
  {
   "cell_type": "markdown",
   "id": "caaa2945",
   "metadata": {},
   "source": [
    "If your intention is to see text output, use the built in print() function"
   ]
  },
  {
   "cell_type": "code",
   "execution_count": 3,
   "id": "e7a5d2ac",
   "metadata": {},
   "outputs": [
    {
     "name": "stdout",
     "output_type": "stream",
     "text": [
      "6\n",
      "7\n"
     ]
    }
   ],
   "source": [
    "print(3+3)\n",
    "print(3+4)"
   ]
  },
  {
   "cell_type": "markdown",
   "id": "bf22d701",
   "metadata": {},
   "source": [
    "Below is a minimal working example of a function that the python interpreter recognizes.\n",
    "\n",
    "There are two parts about a function: \n",
    "1) defining it\n",
    "2) using it\n",
    "\n",
    "First we'll talk about defining it.  A function definition is us inventing something new that is not \"built in\" to python.\n",
    "\n",
    "The word \"def\" in python means we're teaching the interpreter a new thing.  After def is the name that we're calling the thing. For functions, after the name are ().  These can be empty (the function has no input), or they can have variable names (names for the inputs).  \n",
    "\n",
    "After this is a :\n",
    "This means \"I'm starting to group lines of code together now\"\n",
    "\n",
    "A grouping of lines of code is called a \"block\". In python, this is represented with *white space*.\n",
    "\n",
    "Then are the lines of code that define what the function does."
   ]
  },
  {
   "cell_type": "code",
   "execution_count": 4,
   "id": "285419ea",
   "metadata": {},
   "outputs": [],
   "source": [
    "def someFunction():\n",
    "    pass"
   ]
  },
  {
   "cell_type": "markdown",
   "id": "0b3be649",
   "metadata": {},
   "source": [
    "The word \"pass\" is a special word in python that works a place holder.  It's only there to make sure that the \"grammar\" is correct/that things have \"the right look\", and the python interpreter won't complain.  \n",
    "\n",
    "Wherever this word appears, the code is essentially ignored"
   ]
  },
  {
   "cell_type": "markdown",
   "id": "e76ca11f",
   "metadata": {},
   "source": [
    "## Let's look at some errors\n",
    "\n",
    "Errors are a fact of life in programming.  Don't feel bad, they are actually one of the best things you can have!  Good errors always have useful information about what went wrong.  Even if you don't understand the whole error message, read everything once and see what you can get out of it.\n",
    "\n",
    "One of the *best* ways to get better at programming (in any language) is to understand better the errors you see.  It is *very* worth your time to get comfortable with them."
   ]
  },
  {
   "cell_type": "code",
   "execution_count": 5,
   "id": "a669f872",
   "metadata": {},
   "outputs": [
    {
     "ename": "SyntaxError",
     "evalue": "invalid syntax (1683070772.py, line 1)",
     "output_type": "error",
     "traceback": [
      "\u001b[0;36m  Cell \u001b[0;32mIn[5], line 1\u001b[0;36m\u001b[0m\n\u001b[0;31m    def someFunction()\u001b[0m\n\u001b[0m                      ^\u001b[0m\n\u001b[0;31mSyntaxError\u001b[0m\u001b[0;31m:\u001b[0m invalid syntax\n"
     ]
    }
   ],
   "source": [
    "def someFunction()\n",
    "    pass"
   ]
  },
  {
   "cell_type": "markdown",
   "id": "e9ca5db5",
   "metadata": {},
   "source": [
    "Syntax errors mean that you \"misspoke\" the language. Usually you made a kind of grammatical mistake. Above, we didn't use the right punctuation."
   ]
  },
  {
   "cell_type": "code",
   "execution_count": 6,
   "id": "f2388bb2",
   "metadata": {},
   "outputs": [
    {
     "ename": "IndentationError",
     "evalue": "expected an indented block (1986504709.py, line 2)",
     "output_type": "error",
     "traceback": [
      "\u001b[0;36m  Cell \u001b[0;32mIn[6], line 2\u001b[0;36m\u001b[0m\n\u001b[0;31m    pass\u001b[0m\n\u001b[0m    ^\u001b[0m\n\u001b[0;31mIndentationError\u001b[0m\u001b[0;31m:\u001b[0m expected an indented block\n"
     ]
    }
   ],
   "source": [
    "def someFunction():\n",
    "pass"
   ]
  },
  {
   "cell_type": "markdown",
   "id": "aeca65c7",
   "metadata": {},
   "source": [
    "The above is an error that occurs because the python interpreter is expecting to see white space. There is a function being defined (that should be followed by a block of code), but the block isn't found. Where there *should* be white space, there isn't."
   ]
  },
  {
   "cell_type": "markdown",
   "id": "b5f47404",
   "metadata": {},
   "source": [
    "Regarding white space, the python interpreter doesn't care *how much* white space you use, but it can't be nothing."
   ]
  },
  {
   "cell_type": "code",
   "execution_count": 7,
   "id": "c2670fea",
   "metadata": {},
   "outputs": [],
   "source": [
    "def someFunction():\n",
    " pass # one space\n",
    "\n",
    "def someFunction():\n",
    "  pass # two spaces\n",
    "\n",
    "def someFunction():\n",
    "   pass # three spaces\n",
    "\n",
    "def someFunction():\n",
    "    pass # four spaces"
   ]
  },
  {
   "cell_type": "markdown",
   "id": "af9905d4",
   "metadata": {},
   "source": [
    "Although in a single block the amount of white space doesn't matter, *within the same block* the white space should be consistent."
   ]
  },
  {
   "cell_type": "code",
   "execution_count": 8,
   "id": "04e3216b",
   "metadata": {},
   "outputs": [
    {
     "ename": "IndentationError",
     "evalue": "unexpected indent (3938036241.py, line 3)",
     "output_type": "error",
     "traceback": [
      "\u001b[0;36m  Cell \u001b[0;32mIn[8], line 3\u001b[0;36m\u001b[0m\n\u001b[0;31m    print('second thing')\u001b[0m\n\u001b[0m    ^\u001b[0m\n\u001b[0;31mIndentationError\u001b[0m\u001b[0;31m:\u001b[0m unexpected indent\n"
     ]
    }
   ],
   "source": [
    "def printTwoThings():\n",
    "    print('first thing')\n",
    "        print('second thing')"
   ]
  },
  {
   "cell_type": "code",
   "execution_count": 10,
   "id": "6740cd9d",
   "metadata": {},
   "outputs": [],
   "source": [
    "# defining a function happens once.\n",
    "def printTwoThings():\n",
    "    print('first thing')\n",
    "    print('second thing')\n",
    "\n",
    "# by itself it does not \"do\" anything\n"
   ]
  },
  {
   "cell_type": "code",
   "execution_count": 11,
   "id": "6446bce3",
   "metadata": {},
   "outputs": [
    {
     "name": "stdout",
     "output_type": "stream",
     "text": [
      "first thing\n",
      "second thing\n"
     ]
    }
   ],
   "source": [
    "# defining a function happens once.\n",
    "def printTwoThings():\n",
    "    print('first thing')\n",
    "    print('second thing')\n",
    "\n",
    "# This is called running/invoking/using/executing the function:\n",
    "printTwoThings()"
   ]
  },
  {
   "cell_type": "code",
   "execution_count": 12,
   "id": "b71c2fe5",
   "metadata": {},
   "outputs": [
    {
     "name": "stdout",
     "output_type": "stream",
     "text": [
      "first thing\n",
      "second thing\n",
      "\n",
      "first thing\n",
      "second thing\n"
     ]
    }
   ],
   "source": [
    "# defining a function happens once.\n",
    "def printTwoThings():\n",
    "    print('first thing')\n",
    "    print('second thing')\n",
    "\n",
    "# This is called running/invoking/using/executing the function:\n",
    "printTwoThings()\n",
    "print()\n",
    "printTwoThings()"
   ]
  },
  {
   "cell_type": "markdown",
   "id": "43face2a",
   "metadata": {},
   "source": [
    "You can define a function to have a required input. To do that, you just put the name of the variable you want to hold the inputs value in the () of the function definition.  If you have more than one required input, you can separate the variables with a comma."
   ]
  },
  {
   "cell_type": "code",
   "execution_count": 14,
   "id": "67931385",
   "metadata": {},
   "outputs": [
    {
     "name": "stdout",
     "output_type": "stream",
     "text": [
      "hi alice\n",
      "hi bob\n",
      "alice stevens\n"
     ]
    }
   ],
   "source": [
    "def printHi(first_name):\n",
    "    # by default, print will return one string that glues together all it's inputs\n",
    "    # with a single space ' ' and end the string in a new line '\\n'\n",
    "    print('hi', first_name) \n",
    "\n",
    "printHi('alice')\n",
    "printHi('bob')\n",
    "\n",
    "def printHiFullName(first_name, last_name):\n",
    "    print('hi', first_name, last_name)\n",
    "\n",
    "print('alice', 'stevens')"
   ]
  },
  {
   "cell_type": "code",
   "execution_count": 16,
   "id": "bb3f14b0",
   "metadata": {},
   "outputs": [
    {
     "name": "stdout",
     "output_type": "stream",
     "text": [
      "hi alice\n"
     ]
    }
   ],
   "source": [
    "def printHi(first_name):\n",
    "    print('hi', first_name)\n",
    "\n",
    "printHi('alice')"
   ]
  },
  {
   "cell_type": "markdown",
   "id": "c9854fff",
   "metadata": {},
   "source": [
    "In the above function, inputs are *required*. If you don't put an input (or have too many), python will complain (halt with an error)"
   ]
  },
  {
   "cell_type": "code",
   "execution_count": 24,
   "id": "63334870",
   "metadata": {},
   "outputs": [
    {
     "ename": "TypeError",
     "evalue": "printHi() missing 1 required positional argument: 'first_name'",
     "output_type": "error",
     "traceback": [
      "\u001b[0;31m---------------------------------------------------------------------------\u001b[0m",
      "\u001b[0;31mTypeError\u001b[0m                                 Traceback (most recent call last)",
      "Cell \u001b[0;32mIn[24], line 4\u001b[0m\n\u001b[1;32m      1\u001b[0m \u001b[38;5;28;01mdef\u001b[39;00m\u001b[38;5;250m \u001b[39m\u001b[38;5;21mprintHi\u001b[39m(first_name):\n\u001b[1;32m      2\u001b[0m     \u001b[38;5;28mprint\u001b[39m(\u001b[38;5;124m'\u001b[39m\u001b[38;5;124mhi\u001b[39m\u001b[38;5;124m'\u001b[39m, first_name)\n\u001b[0;32m----> 4\u001b[0m \u001b[43mprintHi\u001b[49m\u001b[43m(\u001b[49m\u001b[43m)\u001b[49m\n",
      "\u001b[0;31mTypeError\u001b[0m: printHi() missing 1 required positional argument: 'first_name'"
     ]
    }
   ],
   "source": [
    "def printHi(first_name):\n",
    "    print('hi', first_name)\n",
    "\n",
    "printHi()"
   ]
  },
  {
   "cell_type": "code",
   "execution_count": 25,
   "id": "474f3e14",
   "metadata": {},
   "outputs": [
    {
     "ename": "TypeError",
     "evalue": "printHi() takes 1 positional argument but 2 were given",
     "output_type": "error",
     "traceback": [
      "\u001b[0;31m---------------------------------------------------------------------------\u001b[0m",
      "\u001b[0;31mTypeError\u001b[0m                                 Traceback (most recent call last)",
      "Cell \u001b[0;32mIn[25], line 4\u001b[0m\n\u001b[1;32m      1\u001b[0m \u001b[38;5;28;01mdef\u001b[39;00m\u001b[38;5;250m \u001b[39m\u001b[38;5;21mprintHi\u001b[39m(first_name):\n\u001b[1;32m      2\u001b[0m     \u001b[38;5;28mprint\u001b[39m(\u001b[38;5;124m'\u001b[39m\u001b[38;5;124mhi\u001b[39m\u001b[38;5;124m'\u001b[39m, first_name)\n\u001b[0;32m----> 4\u001b[0m \u001b[43mprintHi\u001b[49m\u001b[43m(\u001b[49m\u001b[38;5;124;43m'\u001b[39;49m\u001b[38;5;124;43malice\u001b[39;49m\u001b[38;5;124;43m'\u001b[39;49m\u001b[43m,\u001b[49m\u001b[43m \u001b[49m\u001b[38;5;124;43m'\u001b[39;49m\u001b[38;5;124;43mstevens\u001b[39;49m\u001b[38;5;124;43m'\u001b[39;49m\u001b[43m)\u001b[49m\n",
      "\u001b[0;31mTypeError\u001b[0m: printHi() takes 1 positional argument but 2 were given"
     ]
    }
   ],
   "source": [
    "def printHi(first_name):\n",
    "    print('hi', first_name)\n",
    "\n",
    "printHi('alice', 'stevens')"
   ]
  },
  {
   "cell_type": "markdown",
   "id": "43ca14c4",
   "metadata": {},
   "source": [
    "Below is a function very much like the above, but we will define to have a definate *output* using the word \"return\""
   ]
  },
  {
   "cell_type": "code",
   "execution_count": 17,
   "id": "131ca788",
   "metadata": {},
   "outputs": [
    {
     "name": "stdout",
     "output_type": "stream",
     "text": [
      "hi bob\n"
     ]
    }
   ],
   "source": [
    "def returnHi(first_name):\n",
    "    return 'hi' + ' ' + first_name\n",
    "\n",
    "returnHi('alice')\n",
    "print(returnHi('bob'))"
   ]
  },
  {
   "cell_type": "markdown",
   "id": "8df839b3",
   "metadata": {},
   "source": [
    "In python, *every* function has an output.  If you don't say it, then there's a default that is chosen for you.  This is a special word, \"None\".  None is a special type in python that represents \"nothing\".  Other programming languages use a word like \"Null\", but python is closer to humans and so uses the word \"None\" instead."
   ]
  },
  {
   "cell_type": "code",
   "execution_count": 18,
   "id": "371f684d",
   "metadata": {},
   "outputs": [
    {
     "name": "stdout",
     "output_type": "stream",
     "text": [
      "hi alice\n",
      "hi bob\n",
      "None\n"
     ]
    }
   ],
   "source": [
    "def printHi(first_name):\n",
    "    print('hi', first_name)\n",
    "\n",
    "printHi('alice')\n",
    "print(printHi('bob'))"
   ]
  },
  {
   "cell_type": "code",
   "execution_count": 19,
   "id": "a941c91f",
   "metadata": {},
   "outputs": [
    {
     "name": "stdout",
     "output_type": "stream",
     "text": [
      "hi alice\n",
      "hi bob\n",
      "None\n"
     ]
    }
   ],
   "source": [
    "# This is exactly the same as above, but we replace the implicit (default) with explicit:\n",
    "def printHi(first_name):\n",
    "    print('hi', first_name)\n",
    "    return None\n",
    "\n",
    "printHi('alice')\n",
    "print(printHi('bob'))"
   ]
  },
  {
   "cell_type": "markdown",
   "id": "0971ee00",
   "metadata": {},
   "source": [
    "Although every function must have *some* output, you can also have multiple outputs (this is actually returning a single thing: a tuple). These come after the \"return\" word and are separated with a comma"
   ]
  },
  {
   "cell_type": "code",
   "execution_count": 22,
   "id": "02156857",
   "metadata": {},
   "outputs": [
    {
     "name": "stdout",
     "output_type": "stream",
     "text": [
      "('a', 'b')\n",
      "the first output is: a\n",
      "the second output is: b\n",
      "this is the only thing I care about a\n"
     ]
    }
   ],
   "source": [
    "def twoOutputs():\n",
    "    return 'a','b'\n",
    "\n",
    "print(twoOutputs()) # this will output a tuple\n",
    "\n",
    "# you can create multiple variables on one line to \"capture\" each of the outputs\n",
    "first_output, second_output = twoOutputs() \n",
    "print('the first output is:', first_output)\n",
    "print('the second output is:', second_output)\n",
    "\n",
    "# you can \"throw away\" some variable by using an underscore.\n",
    "# This saves space because you don't need to store the value of something you don't need.\n",
    "things_i_care_about, _ = twoOutputs()\n",
    "print('this is the only thing I care about', things_i_care_about)"
   ]
  },
  {
   "cell_type": "markdown",
   "id": "b3ad2a5d",
   "metadata": {},
   "source": [
    "## Optional arguments (function inputs)\n",
    "\n",
    "There are 3 kinds of optional inputs: named arguments, *args, and **kwargs.  We'll begin with the first one.\n",
    "\n",
    "One way to make an argument optional is to give it a default value. This is also called a \"key-word\" argument (i.e. a key-value pair): the variable name is the \"key\" and the value is the value (See below)"
   ]
  },
  {
   "cell_type": "code",
   "execution_count": 23,
   "id": "fe8bb17d",
   "metadata": {},
   "outputs": [
    {
     "name": "stdout",
     "output_type": "stream",
     "text": [
      "hi alice\n",
      "hi you old so and so\n"
     ]
    }
   ],
   "source": [
    "def hiAnybody(name='you old so and so'):\n",
    "    return 'hi' + ' ' + name\n",
    "\n",
    "print(hiAnybody('alice'))\n",
    "print(hiAnybody())\n"
   ]
  },
  {
   "cell_type": "markdown",
   "id": "a51a843a",
   "metadata": {},
   "source": [
    "### *args\n",
    "\n",
    "The * character is used in front of a single variable (usually called args, but can be anything) in a functions input definitions which means (0 or more).  This is because when you call the function, all the extra inputs get put together in a single thing (a tuple). Inside the function you can access each of these by iterating through the tuple.\n",
    "\n",
    "The * variable must come after required and named single variables."
   ]
  },
  {
   "cell_type": "code",
   "execution_count": 26,
   "id": "5f578456",
   "metadata": {},
   "outputs": [
    {
     "name": "stdout",
     "output_type": "stream",
     "text": [
      "()\n",
      "('a', 'b', 'c')\n"
     ]
    }
   ],
   "source": [
    "def manyInputs(*args):\n",
    "    print(args) # notice that the * is only used in the function definition.  the variable name itself is just \"args\".\n",
    "\n",
    "manyInputs()\n",
    "manyInputs('a','b','c')"
   ]
  },
  {
   "cell_type": "code",
   "execution_count": null,
   "id": "8428efed",
   "metadata": {},
   "outputs": [
    {
     "ename": "TypeError",
     "evalue": "manyInputs() missing 1 required positional argument: 'required_input'",
     "output_type": "error",
     "traceback": [
      "\u001b[0;31m---------------------------------------------------------------------------\u001b[0m",
      "\u001b[0;31mTypeError\u001b[0m                                 Traceback (most recent call last)",
      "Cell \u001b[0;32mIn[27], line 4\u001b[0m\n\u001b[1;32m      1\u001b[0m \u001b[38;5;28;01mdef\u001b[39;00m\u001b[38;5;250m \u001b[39m\u001b[38;5;21mmanyInputs\u001b[39m(required_input,\u001b[38;5;241m*\u001b[39margs):\n\u001b[1;32m      2\u001b[0m     \u001b[38;5;28mprint\u001b[39m(required_input,args) \u001b[38;5;66;03m# notice that the * is only used in the function definition.  the variable name itself is just \"args\".\u001b[39;00m\n\u001b[0;32m----> 4\u001b[0m \u001b[43mmanyInputs\u001b[49m\u001b[43m(\u001b[49m\u001b[43m)\u001b[49m \u001b[38;5;66;03m# this will fail because there is one required input\u001b[39;00m\n\u001b[1;32m      5\u001b[0m manyInputs(\u001b[38;5;124m'\u001b[39m\u001b[38;5;124ma\u001b[39m\u001b[38;5;124m'\u001b[39m,\u001b[38;5;124m'\u001b[39m\u001b[38;5;124mb\u001b[39m\u001b[38;5;124m'\u001b[39m,\u001b[38;5;124m'\u001b[39m\u001b[38;5;124mc\u001b[39m\u001b[38;5;124m'\u001b[39m)\n",
      "\u001b[0;31mTypeError\u001b[0m: manyInputs() missing 1 required positional argument: 'required_input'"
     ]
    }
   ],
   "source": [
    "def manyInputs(required_input,*args):\n",
    "    print(required_input,args)\n",
    "\n",
    "manyInputs() # this will fail because there is one required input\n",
    "manyInputs('a','b','c')"
   ]
  },
  {
   "cell_type": "code",
   "execution_count": null,
   "id": "c539e57b",
   "metadata": {},
   "outputs": [
    {
     "name": "stdout",
     "output_type": "stream",
     "text": [
      "a\n",
      "('b', 'c')\n"
     ]
    }
   ],
   "source": [
    "def manyInputs(required_input,*args):\n",
    "    print(required_input)\n",
    "    print(args) \n",
    "\n",
    "manyInputs('a','b','c')"
   ]
  },
  {
   "cell_type": "code",
   "execution_count": 30,
   "id": "51125bdb",
   "metadata": {},
   "outputs": [
    {
     "ename": "TypeError",
     "evalue": "manyInputs() missing 1 required keyword-only argument: 'required_input'",
     "output_type": "error",
     "traceback": [
      "\u001b[0;31m---------------------------------------------------------------------------\u001b[0m",
      "\u001b[0;31mTypeError\u001b[0m                                 Traceback (most recent call last)",
      "Cell \u001b[0;32mIn[30], line 5\u001b[0m\n\u001b[1;32m      2\u001b[0m     \u001b[38;5;28mprint\u001b[39m(required_input)\n\u001b[1;32m      3\u001b[0m     \u001b[38;5;28mprint\u001b[39m(args)\n\u001b[0;32m----> 5\u001b[0m \u001b[43mmanyInputs\u001b[49m\u001b[43m(\u001b[49m\u001b[38;5;124;43m'\u001b[39;49m\u001b[38;5;124;43ma\u001b[39;49m\u001b[38;5;124;43m'\u001b[39;49m\u001b[43m,\u001b[49m\u001b[38;5;124;43m'\u001b[39;49m\u001b[38;5;124;43mb\u001b[39;49m\u001b[38;5;124;43m'\u001b[39;49m\u001b[43m,\u001b[49m\u001b[38;5;124;43m'\u001b[39;49m\u001b[38;5;124;43mc\u001b[39;49m\u001b[38;5;124;43m'\u001b[39;49m\u001b[43m)\u001b[49m\n",
      "\u001b[0;31mTypeError\u001b[0m: manyInputs() missing 1 required keyword-only argument: 'required_input'"
     ]
    }
   ],
   "source": [
    "def manyInputs(*args, required_input): # This line will crash the program. required inputs come first\n",
    "    print(required_input)\n",
    "    print(args)\n",
    "\n",
    "manyInputs('a','b','c')"
   ]
  },
  {
   "cell_type": "markdown",
   "id": "e3414673",
   "metadata": {},
   "source": [
    "### **kwargs\n",
    "\n",
    "Like *args, ** is a special character for assigning a variable in the input to a tuple of key-value pairs."
   ]
  },
  {
   "cell_type": "code",
   "execution_count": 31,
   "id": "aec96b54",
   "metadata": {},
   "outputs": [
    {
     "name": "stdout",
     "output_type": "stream",
     "text": [
      "{'first_name': 'bob', 'last_name': 'barker'}\n"
     ]
    }
   ],
   "source": [
    "def manyKeyWordInputs(**kwargs):\n",
    "    print(kwargs)\n",
    "\n",
    "manyKeyWordInputs(first_name='bob', last_name='barker')"
   ]
  },
  {
   "cell_type": "markdown",
   "id": "1f884a36",
   "metadata": {},
   "source": []
  },
  {
   "cell_type": "markdown",
   "id": "361c35ff",
   "metadata": {},
   "source": [
    "## Defining types in the function definition (for humans only)\n",
    "\n",
    "When you define a function, you can specify the *types* of the inputs and the *type* of the output.\n",
    "\n",
    "\n",
    "def funName(arg1:type1,arg2:type2,...) -> output_type:\n",
    "\n",
    "This is only useful for humans, the python interpreter doesn't care."
   ]
  },
  {
   "cell_type": "code",
   "execution_count": 4,
   "id": "7e47f371",
   "metadata": {},
   "outputs": [
    {
     "name": "stdout",
     "output_type": "stream",
     "text": [
      "7\n"
     ]
    }
   ],
   "source": [
    "# this does not define types at all\n",
    "def twoSum(a,b):\n",
    "    return a+b\n",
    "\n",
    "print(twoSum(2,5))"
   ]
  },
  {
   "cell_type": "code",
   "execution_count": 5,
   "id": "32934149",
   "metadata": {},
   "outputs": [
    {
     "name": "stdout",
     "output_type": "stream",
     "text": [
      "7\n",
      "6.7\n",
      "abc123\n"
     ]
    }
   ],
   "source": [
    "# here is the same function specifying the types:\n",
    "def twoSum(a:int, b:int) -> int: # a and b should be of type int, and the output is an int\n",
    "    return a+b\n",
    "\n",
    "print(twoSum(2,5))\n",
    "print(twoSum(1.0,5.7))\n",
    "print(twoSum('abc', '123'))"
   ]
  },
  {
   "cell_type": "markdown",
   "id": "bf438aa4",
   "metadata": {},
   "source": [
    "# Variable scope (local vs global)\n",
    "\n",
    "Some variables can be accessed anywhere in the program, these are called \"global\" variables. \n",
    "\n",
    "Most variables, though, have a limited scope (they're local variables), i.e. they can only be accessed in some parts of the program, but not others."
   ]
  },
  {
   "cell_type": "markdown",
   "id": "c46d06e7",
   "metadata": {},
   "source": []
  },
  {
   "cell_type": "code",
   "execution_count": 7,
   "id": "99fec1f8",
   "metadata": {},
   "outputs": [
    {
     "name": "stdout",
     "output_type": "stream",
     "text": [
      "7\n"
     ]
    }
   ],
   "source": [
    "global_var = 'I\\'m available everywhere'\n",
    "\n",
    "def twoSum(a,b):\n",
    "    result = a + b # this variable is only available inside of the function definition\n",
    "    print(result)\n",
    "    return result\n",
    "\n",
    "# this line will fail\n",
    "# print(result) \n",
    "\n",
    "# if you want a variable's value, the function must return it as output and you can save it to a variable.\n",
    "two_sum_result = twoSum(3,4)\n"
   ]
  },
  {
   "cell_type": "markdown",
   "id": "79e2d416",
   "metadata": {},
   "source": []
  }
 ],
 "metadata": {
  "kernelspec": {
   "display_name": "engravings",
   "language": "python",
   "name": "python3"
  },
  "language_info": {
   "codemirror_mode": {
    "name": "ipython",
    "version": 3
   },
   "file_extension": ".py",
   "mimetype": "text/x-python",
   "name": "python",
   "nbconvert_exporter": "python",
   "pygments_lexer": "ipython3",
   "version": "3.12.7"
  }
 },
 "nbformat": 4,
 "nbformat_minor": 5
}
