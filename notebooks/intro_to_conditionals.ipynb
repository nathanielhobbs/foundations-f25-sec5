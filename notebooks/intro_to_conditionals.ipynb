{
 "cells": [
  {
   "cell_type": "markdown",
   "id": "ee20f715",
   "metadata": {},
   "source": [
    "# Contitionals (if/elif/else)\n",
    "\n",
    "Contitionals are words in the language that allows parts of the program to run depending on the conditions.\n",
    "\n",
    "The full syntax is\n",
    "```python\n",
    "\n",
    "if <statment is True>: # check boolean statement\n",
    "    # code block\n",
    "elif <another statement is True>: # check another boolean statement\n",
    "    # code block\n",
    "elif ...\n",
    "else: # the default if all else fails\n",
    "    # code block\n",
    "```"
   ]
  },
  {
   "cell_type": "code",
   "execution_count": 1,
   "id": "0a2b6564",
   "metadata": {},
   "outputs": [
    {
     "name": "stdout",
     "output_type": "stream",
     "text": [
      "positive\n"
     ]
    }
   ],
   "source": [
    "x = 10\n",
    "if x > 0:\n",
    "    print('positive')\n",
    "else:\n",
    "    print('negative')"
   ]
  },
  {
   "cell_type": "code",
   "execution_count": 8,
   "id": "4c130b99",
   "metadata": {},
   "outputs": [
    {
     "name": "stdout",
     "output_type": "stream",
     "text": [
      "medium\n"
     ]
    }
   ],
   "source": [
    "x = 50\n",
    "\n",
    "if x > 100:\n",
    "    print('big')\n",
    "elif x > 20:\n",
    "    print('medium')\n",
    "else:\n",
    "    print('small')"
   ]
  },
  {
   "cell_type": "code",
   "execution_count": 8,
   "id": "012e16a4",
   "metadata": {},
   "outputs": [
    {
     "name": "stdout",
     "output_type": "stream",
     "text": [
      "odd\n"
     ]
    }
   ],
   "source": [
    "x = 3\n",
    "if x % 2 == 0:\n",
    "    print('even')\n",
    "else:\n",
    "    print('odd')"
   ]
  },
  {
   "cell_type": "code",
   "execution_count": 7,
   "id": "99b448dc",
   "metadata": {},
   "outputs": [
    {
     "name": "stdout",
     "output_type": "stream",
     "text": [
      "2.5\n",
      "2\n",
      "1\n"
     ]
    }
   ],
   "source": [
    "print(5/2)\n",
    "print(5//2)\n",
    "print(5%2)"
   ]
  },
  {
   "cell_type": "markdown",
   "id": "dc038005",
   "metadata": {},
   "source": [
    "## Nested conditionals and their (and/or) equivalent\n",
    "\n",
    "There's mulitple valid ways to reach a conlusion of True/False with multiple \"parts\" of the statement."
   ]
  },
  {
   "cell_type": "code",
   "execution_count": 9,
   "id": "cc90cedc",
   "metadata": {},
   "outputs": [
    {
     "name": "stdout",
     "output_type": "stream",
     "text": [
      "x is small and also even\n"
     ]
    }
   ],
   "source": [
    "def xIsSmallAndePos(x):\n",
    "    if x < 100:\n",
    "        if x % 2 == 0:\n",
    "            print('x is small and also even')\n",
    "\n",
    "xIsSmallAndePos(4)\n",
    "xIsSmallAndePos(5)\n",
    "xIsSmallAndePos(1024)"
   ]
  },
  {
   "cell_type": "code",
   "execution_count": null,
   "id": "7d51ba34",
   "metadata": {},
   "outputs": [
    {
     "name": "stdout",
     "output_type": "stream",
     "text": [
      "x is small and also even\n"
     ]
    }
   ],
   "source": [
    "def xIsSmallAndePos(x):\n",
    "    if x < 100 and x % 2 == 0:\n",
    "            print('x is small and also even')\n",
    "\n",
    "xIsSmallAndePos(4)\n",
    "xIsSmallAndePos(5)\n",
    "xIsSmallAndePos(1024)"
   ]
  },
  {
   "cell_type": "code",
   "execution_count": null,
   "id": "e660dc4d",
   "metadata": {},
   "outputs": [
    {
     "name": "stdout",
     "output_type": "stream",
     "text": [
      "x is small and also even\n"
     ]
    }
   ],
   "source": [
    "def xIsSmallAndePos(x):\n",
    "        if x < 100 and not x % 2 == 1:\n",
    "            print('x is small and also even')\n",
    "\n",
    "xIsSmallAndePos(4)\n",
    "xIsSmallAndePos(5)\n",
    "xIsSmallAndePos(1024)"
   ]
  },
  {
   "cell_type": "code",
   "execution_count": null,
   "id": "36a17673",
   "metadata": {},
   "outputs": [],
   "source": [
    "def xIsSmallAndePos(x):\n",
    "        if x < 100 and not x % 2:\n",
    "            print('x is small and also even')\n",
    "\n",
    "xIsSmallAndePos(4)\n",
    "xIsSmallAndePos(5)\n",
    "xIsSmallAndePos(1024)"
   ]
  },
  {
   "cell_type": "markdown",
   "id": "6d2a0fd6",
   "metadata": {},
   "source": [
    "## python is a \"truthy\" language\n",
    "\n",
    "This means that the types in python can *sometimes* intermingle"
   ]
  },
  {
   "cell_type": "code",
   "execution_count": null,
   "id": "4fcc43c5",
   "metadata": {},
   "outputs": [
    {
     "name": "stdout",
     "output_type": "stream",
     "text": [
      "2\n",
      "True\n",
      "True\n",
      "False\n"
     ]
    }
   ],
   "source": [
    "print(1 + True) # \"behaves like\" 1 + 1\n",
    "\n",
    "print(1 == True) # \"behaves like\" True == True\n",
    "\n",
    "print(0==False) # \"behaves like\" False == False\n",
    "\n",
    "print(''==False) # \"behaves like\" ...."
   ]
  },
  {
   "cell_type": "code",
   "execution_count": 14,
   "id": "ddcd7aa9",
   "metadata": {},
   "outputs": [
    {
     "name": "stdout",
     "output_type": "stream",
     "text": [
      "x is small\n",
      "x is positive\n",
      "x is small\n",
      "x is positive\n"
     ]
    }
   ],
   "source": [
    "def xIsSmallOrPos(x):\n",
    "    if x < 100:\n",
    "        print('x is small')\n",
    "    if x % 2 == 0:\n",
    "        print('x is positive')\n",
    "        \n",
    "\n",
    "xIsSmallOrPos(4)\n",
    "xIsSmallOrPos(5)\n",
    "xIsSmallOrPos(1024)"
   ]
  },
  {
   "cell_type": "code",
   "execution_count": 15,
   "id": "388183a8",
   "metadata": {},
   "outputs": [
    {
     "name": "stdout",
     "output_type": "stream",
     "text": [
      "x is small or positive (not sure which)\n",
      "x is small or positive (not sure which)\n",
      "x is small or positive (not sure which)\n"
     ]
    }
   ],
   "source": [
    "def xIsSmallOrPos(x):\n",
    "    if x < 100 or x % 2 == 0:\n",
    "        print('x is small or positive (not sure which)')        \n",
    "\n",
    "xIsSmallOrPos(4)\n",
    "xIsSmallOrPos(5)\n",
    "xIsSmallOrPos(1024)"
   ]
  },
  {
   "cell_type": "markdown",
   "id": "e108b290",
   "metadata": {},
   "source": [
    "# Practice\n",
    "\n",
    "Write a function called \"smallPowerOfTwo(x)\" which takes a single integer as input, x, and returns the string \"small power of 2\" if x is 2, 4, 8, 16, 32, 64, 128, or 256.  For all other x, the function should output \"not small power of 2\"."
   ]
  },
  {
   "cell_type": "code",
   "execution_count": null,
   "id": "0b0ddf11",
   "metadata": {},
   "outputs": [],
   "source": [
    "def smallPowerOfTwo(x: int) -> str:\n",
    "    if x == 2 or x == 4 or x == 8 or x ==16 or x == 32 or x == 64 or x == 128 or x == 256 and x%2==0:\n",
    "        print('small power of two')\n",
    "    else:\n",
    "        print('not small power of two')"
   ]
  },
  {
   "cell_type": "code",
   "execution_count": null,
   "id": "b19b1522",
   "metadata": {},
   "outputs": [],
   "source": [
    "def smallPowerOfTwo(x: int) -> str:\n",
    "    if x == 2 or x == 4 or x == 8 or x ==16 or x == 32 or x == 64 or x == 128 or x == 256:\n",
    "        print('small power of two')\n",
    "    else:\n",
    "        print('not small power of two')"
   ]
  },
  {
   "cell_type": "code",
   "execution_count": null,
   "id": "c4c279de",
   "metadata": {},
   "outputs": [],
   "source": [
    "def smallPowerOfTwo(x: int) -> str:\n",
    "    if x == 2:\n",
    "        print('small power of two')\n",
    "    elif x == 4:\n",
    "        print('small power of two')\n",
    "    elif x == 8:\n",
    "        print('small power of two')\n",
    "    elif x == 16:\n",
    "        print('small power of two')\n",
    "    elif x == 32:\n",
    "        print('small power of two')\n",
    "    elif x == 64:\n",
    "        print('small power of two')\n",
    "    elif x == 128:\n",
    "        print('small power of two')\n",
    "    elif x == 256:\n",
    "        print('small power of two')\n",
    "    else:\n",
    "        print('not small power of two')"
   ]
  },
  {
   "cell_type": "code",
   "execution_count": 4,
   "id": "01ff3b20",
   "metadata": {},
   "outputs": [],
   "source": [
    "def smallPowerOfTwo(x: int) -> str:\n",
    "    if x in [2,4,8,16,32,64,128,256]:\n",
    "        print('small power of two')\n",
    "    else:\n",
    "        print('not small power of two')"
   ]
  }
 ],
 "metadata": {
  "kernelspec": {
   "display_name": "engravings",
   "language": "python",
   "name": "python3"
  },
  "language_info": {
   "codemirror_mode": {
    "name": "ipython",
    "version": 3
   },
   "file_extension": ".py",
   "mimetype": "text/x-python",
   "name": "python",
   "nbconvert_exporter": "python",
   "pygments_lexer": "ipython3",
   "version": "3.12.7"
  }
 },
 "nbformat": 4,
 "nbformat_minor": 5
}
